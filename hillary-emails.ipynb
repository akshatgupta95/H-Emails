{
 "cells": [
  {
   "cell_type": "code",
   "execution_count": 232,
   "metadata": {
    "collapsed": true
   },
   "outputs": [],
   "source": [
    "import csv\n",
    "import pandas as pd\n",
    "from datetime import datetime"
   ]
  },
  {
   "cell_type": "markdown",
   "metadata": {},
   "source": [
    "### Data Processing\n",
    "We will keep track of 3 Dataframes:\n",
    "* ``` all_emails: EmailId, EmailSubject, SenderId, SendDate, EmailBody, ReceiverId ```\n",
    "* ``` all_people: PersonId, PersonName ```\n",
    "* ``` all_emails_to_from: EmailId, ReceiverId ```"
   ]
  },
  {
   "cell_type": "code",
   "execution_count": 233,
   "metadata": {
    "collapsed": false
   },
   "outputs": [],
   "source": [
    "all_emails_metadata = []\n",
    "with open('./Emails.csv', 'r') as f:\n",
    "    data_reader = csv.reader(f)\n",
    "    for row in data_reader:\n",
    "        all_emails_metadata.append(row)\n",
    "\n",
    "all_emails = pd.DataFrame(all_emails_metadata[1:], columns=all_emails_metadata[0])\n",
    "all_emails = all_emails[['Id', 'MetadataSubject', 'SenderPersonId', 'MetadataDateSent', 'RawText']]\n",
    "all_emails.columns = ['EmailId', 'EmailSubject', 'SenderId', 'SendDate', 'EmailBody']"
   ]
  },
  {
   "cell_type": "code",
   "execution_count": 234,
   "metadata": {
    "collapsed": true
   },
   "outputs": [],
   "source": [
    "all_people_metadata = []\n",
    "with open('./Persons.csv', 'r') as f:\n",
    "    data_reader = csv.reader(f)\n",
    "    for row in data_reader:\n",
    "        all_people_metadata.append(row)\n",
    "\n",
    "all_people = pd.DataFrame(all_people_metadata[1:], columns=all_people_metadata[0])\n",
    "all_people.columns = ['PersonId', 'PersonName']"
   ]
  },
  {
   "cell_type": "code",
   "execution_count": 235,
   "metadata": {
    "collapsed": true
   },
   "outputs": [],
   "source": [
    "all_emails_to_from_metadata = []\n",
    "with open('./EmailReceivers.csv', 'r') as f:\n",
    "    data_reader = csv.reader(f)\n",
    "    for row in data_reader:\n",
    "        all_emails_to_from_metadata.append(row)\n",
    "\n",
    "all_emails_to_from = pd.DataFrame(all_emails_to_from_metadata[1:], columns=all_emails_to_from_metadata[0])\n",
    "all_emails_to_from.drop(\n",
    "    'Id',\n",
    "    axis=1,\n",
    "    inplace=True\n",
    ")\n",
    "all_emails_to_from.columns = ['EmailId', 'ReceiverId']"
   ]
  },
  {
   "cell_type": "code",
   "execution_count": 236,
   "metadata": {
    "collapsed": false
   },
   "outputs": [],
   "source": [
    "# Join all_emails and all_emails_to_from with a right join on EmailId\n",
    "all_emails = all_emails.merge(all_emails_to_from, on='EmailId', how='right')"
   ]
  },
  {
   "cell_type": "code",
   "execution_count": 237,
   "metadata": {
    "collapsed": false
   },
   "outputs": [],
   "source": [
    "# Replace missing date values with a certain date.\n",
    "# The specified date should not add much noise as there are very few missing values.\n",
    "all_emails.SendDate = all_emails.SendDate.replace(\n",
    "    to_replace='',\n",
    "    value='2012-09-12T04:00:00+00:00'\n",
    ")\n",
    "\n",
    "# Convert all the dates with time to Timestamps.\n",
    "# These can later be used to get date, time, etc...\n",
    "all_emails.SendDate = [\n",
    "    datetime.strptime(send_date.split('T')[0] + ' ' + send_date.split('T')[1].split('+')[0], '%Y-%m-%d %H:%M:%S')\n",
    "    for send_date in all_emails.SendDate\n",
    "]"
   ]
  },
  {
   "cell_type": "markdown",
   "metadata": {},
   "source": [
    "### Data Transformation\n",
    "WIP..."
   ]
  }
 ],
 "metadata": {
  "kernelspec": {
   "display_name": "Python 2",
   "language": "python",
   "name": "python2"
  },
  "language_info": {
   "codemirror_mode": {
    "name": "ipython",
    "version": 2
   },
   "file_extension": ".py",
   "mimetype": "text/x-python",
   "name": "python",
   "nbconvert_exporter": "python",
   "pygments_lexer": "ipython2",
   "version": "2.7.11"
  }
 },
 "nbformat": 4,
 "nbformat_minor": 0
}

{
 "cells": [
  {
   "cell_type": "markdown",
   "metadata": {},
   "source": [
    "# Who Sent The Email and To Whom?\n",
    "\n",
    "We will try to predict the senders and recipients of emails obtained from [Hillary Clinton Emails Dataset](https://www.kaggle.com/kaggle/hillary-clinton-emails)."
   ]
  },
  {
   "cell_type": "code",
   "execution_count": 98,
   "metadata": {
    "collapsed": true
   },
   "outputs": [],
   "source": [
    "%matplotlib inline\n",
    "\n",
    "import csv\n",
    "import pandas as pd\n",
    "from datetime import datetime\n",
    "import numpy as np\n",
    "import re\n",
    "\n",
    "from sklearn.cross_validation import train_test_split\n",
    "from sklearn.feature_extraction.text import CountVectorizer\n",
    "from sklearn.feature_extraction.text import TfidfTransformer\n",
    "from sklearn.naive_bayes import MultinomialNB\n",
    "from sklearn.pipeline import Pipeline\n",
    "from sklearn.metrics import accuracy_score\n",
    "from sklearn.metrics import classification_report"
   ]
  },
  {
   "cell_type": "markdown",
   "metadata": {},
   "source": [
    "### Data Processing\n",
    "We will keep track of 3 Dataframes:\n",
    "* ``` all_emails: EmailId, EmailSubject, SenderId, SendDate, EmailBody, ReceiverId ```\n",
    "* ``` all_people: PersonId, PersonName ```\n",
    "* ``` all_emails_to_from: EmailId, ReceiverId ```"
   ]
  },
  {
   "cell_type": "code",
   "execution_count": 61,
   "metadata": {
    "collapsed": false
   },
   "outputs": [],
   "source": [
    "all_emails_metadata = []\n",
    "with open('./Emails.csv', 'r') as f:\n",
    "    data_reader = csv.reader(f)\n",
    "    for row in data_reader:\n",
    "        all_emails_metadata.append(row)\n",
    "\n",
    "all_emails = pd.DataFrame(all_emails_metadata[1:], columns=all_emails_metadata[0])\n",
    "all_emails = all_emails[['Id', 'MetadataSubject', 'SenderPersonId', 'MetadataDateSent', 'RawText']]\n",
    "all_emails.columns = ['EmailId', 'EmailSubject', 'SenderId', 'SendDate', 'EmailBody']"
   ]
  },
  {
   "cell_type": "code",
   "execution_count": 62,
   "metadata": {
    "collapsed": true
   },
   "outputs": [],
   "source": [
    "all_people_metadata = []\n",
    "with open('./Persons.csv', 'r') as f:\n",
    "    data_reader = csv.reader(f)\n",
    "    for row in data_reader:\n",
    "        all_people_metadata.append(row)\n",
    "\n",
    "all_people = pd.DataFrame(all_people_metadata[1:], columns=all_people_metadata[0])\n",
    "all_people.columns = ['PersonId', 'PersonName']"
   ]
  },
  {
   "cell_type": "code",
   "execution_count": 63,
   "metadata": {
    "collapsed": true
   },
   "outputs": [],
   "source": [
    "all_emails_to_from_metadata = []\n",
    "with open('./EmailReceivers.csv', 'r') as f:\n",
    "    data_reader = csv.reader(f)\n",
    "    for row in data_reader:\n",
    "        all_emails_to_from_metadata.append(row)\n",
    "\n",
    "all_emails_to_from = pd.DataFrame(all_emails_to_from_metadata[1:], columns=all_emails_to_from_metadata[0])\n",
    "\n",
    "# drop columns not needed\n",
    "all_emails_to_from.drop(\n",
    "    'Id',\n",
    "    axis=1,\n",
    "    inplace=True\n",
    ")\n",
    "all_emails_to_from.columns = ['EmailId', 'ReceiverId']"
   ]
  },
  {
   "cell_type": "code",
   "execution_count": 64,
   "metadata": {
    "collapsed": false
   },
   "outputs": [],
   "source": [
    "# Join all_emails and all_emails_to_from with a right join on EmailId\n",
    "all_emails = all_emails.merge(all_emails_to_from, on='EmailId', how='right')"
   ]
  },
  {
   "cell_type": "code",
   "execution_count": 65,
   "metadata": {
    "collapsed": false
   },
   "outputs": [],
   "source": [
    "# There are some fields that have empty values.\n",
    "# Since there are not many of these cases, we will just drop the rows that have these empty values.\n",
    "all_emails = all_emails[all_emails.SendDate != '']\n",
    "all_emails = all_emails[all_emails.SenderId != '']\n",
    "all_emails = all_emails[all_emails.ReceiverId != '']\n",
    "\n",
    "# Convert all the dates with time to Timestamps.\n",
    "# These can later be used to get date, time, etc...\n",
    "all_emails.SendDate = [\n",
    "    datetime.strptime(send_date.split('T')[0] + ' ' + send_date.split('T')[1].split('+')[0], '%Y-%m-%d %H:%M:%S')\n",
    "    for send_date in all_emails.SendDate\n",
    "]"
   ]
  },
  {
   "cell_type": "code",
   "execution_count": 66,
   "metadata": {
    "collapsed": true
   },
   "outputs": [],
   "source": [
    "# Convert all sender and receiver Ids to ints\n",
    "all_emails.SenderId = [\n",
    "    int(curr_sender_id)\n",
    "    for curr_sender_id in all_emails.SenderId\n",
    "]\n",
    "\n",
    "all_emails.ReceiverId = [\n",
    "    int(curr_recv_id)\n",
    "    for curr_recv_id in all_emails.ReceiverId\n",
    "]"
   ]
  },
  {
   "cell_type": "markdown",
   "metadata": {},
   "source": [
    "### Data Transformation\n",
    "\n",
    "Remove non-alphanumeric characters from strings and also remove strings that have numbers within them."
   ]
  },
  {
   "cell_type": "code",
   "execution_count": 8,
   "metadata": {
    "collapsed": false
   },
   "outputs": [],
   "source": [
    "all_emails.EmailBody = [\n",
    "    re.sub('[^A-Za-z0-9]+', ' ', line)\n",
    "    for line in all_emails.EmailBody\n",
    "]\n",
    "\n",
    "# remove all words containing digits. these words would add noise.\n",
    "all_emails.EmailBody = [\n",
    "    ' '.join(s.lower() for s in line.split() if not any(c.isdigit() for c in s))\n",
    "    for line in all_emails.EmailBody\n",
    "]"
   ]
  },
  {
   "cell_type": "markdown",
   "metadata": {},
   "source": [
    "### Predicting recipients of emails"
   ]
  },
  {
   "cell_type": "code",
   "execution_count": 71,
   "metadata": {
    "collapsed": false
   },
   "outputs": [],
   "source": [
    "h_emails = all_emails[all_emails.SenderId == 80][['EmailBody', 'ReceiverId']]"
   ]
  },
  {
   "cell_type": "code",
   "execution_count": 72,
   "metadata": {
    "collapsed": false
   },
   "outputs": [],
   "source": [
    "X_h_emails_train, X_h_emails_test, y_h_emails_train, y_h_emails_test = train_test_split(h_emails.EmailBody, h_emails.ReceiverId, test_size=0.25)"
   ]
  },
  {
   "cell_type": "markdown",
   "metadata": {},
   "source": [
    "Creation of a document term matrix to store counts of words per document."
   ]
  },
  {
   "cell_type": "code",
   "execution_count": 73,
   "metadata": {
    "collapsed": false
   },
   "outputs": [
    {
     "data": {
      "text/plain": [
       "CountVectorizer(analyzer=u'word', binary=False, charset=None,\n",
       "        charset_error=None, decode_error=u'strict',\n",
       "        dtype=<type 'numpy.int64'>, encoding=u'utf-8', input=u'content',\n",
       "        lowercase=True, max_df=1.0, max_features=None, min_df=1,\n",
       "        ngram_range=(1, 1), preprocessor=None, stop_words='english',\n",
       "        strip_accents=None, token_pattern=u'(?u)\\\\b\\\\w\\\\w+\\\\b',\n",
       "        tokenizer=None, vocabulary=None)"
      ]
     },
     "execution_count": 73,
     "metadata": {},
     "output_type": "execute_result"
    }
   ],
   "source": [
    "vect = CountVectorizer(stop_words='english')\n",
    "\n",
    "vect.fit(X_h_emails_train)"
   ]
  },
  {
   "cell_type": "code",
   "execution_count": 74,
   "metadata": {
    "collapsed": false
   },
   "outputs": [],
   "source": [
    "X_h_emails_train_dtm = vect.transform(X_h_emails_train)\n",
    "X_h_emails_test_dtm = vect.transform(X_h_emails_test)"
   ]
  },
  {
   "cell_type": "markdown",
   "metadata": {},
   "source": [
    "We'll use Multinomial Naive Bayes for this prediction."
   ]
  },
  {
   "cell_type": "code",
   "execution_count": 75,
   "metadata": {
    "collapsed": false
   },
   "outputs": [
    {
     "data": {
      "text/plain": [
       "MultinomialNB(alpha=1.0, class_prior=None, fit_prior=True)"
      ]
     },
     "execution_count": 75,
     "metadata": {},
     "output_type": "execute_result"
    }
   ],
   "source": [
    "nb = MultinomialNB()\n",
    "\n",
    "nb.fit(X_h_emails_train_dtm, y_h_emails_train)"
   ]
  },
  {
   "cell_type": "code",
   "execution_count": 76,
   "metadata": {
    "collapsed": false
   },
   "outputs": [
    {
     "data": {
      "text/plain": [
       "0.32944606413994171"
      ]
     },
     "execution_count": 76,
     "metadata": {},
     "output_type": "execute_result"
    }
   ],
   "source": [
    "accuracy_score(nb.predict(X_h_emails_test_dtm), y_h_emails_test)"
   ]
  },
  {
   "cell_type": "markdown",
   "metadata": {},
   "source": [
    "Not a great prediction score. Moving on to [Pipelining](http://scikit-learn.org/stable/modules/generated/sklearn.pipeline.Pipeline.html).\n",
    "\n",
    "We will also use [TF-IDF](https://en.wikipedia.org/wiki/Tf%E2%80%93idf) to give proper weightage to terms in emails."
   ]
  },
  {
   "cell_type": "code",
   "execution_count": 77,
   "metadata": {
    "collapsed": true
   },
   "outputs": [],
   "source": [
    "nb_pipeline = Pipeline([\n",
    "        ('bow', CountVectorizer(stop_words='english', ngram_range=(1, 2))),\n",
    "        ('tfidf', TfidfTransformer()),\n",
    "        ('classifier', MultinomialNB())\n",
    "])"
   ]
  },
  {
   "cell_type": "code",
   "execution_count": 78,
   "metadata": {
    "collapsed": false
   },
   "outputs": [
    {
     "data": {
      "text/plain": [
       "Pipeline(steps=[('bow', CountVectorizer(analyzer=u'word', binary=False, charset=None,\n",
       "        charset_error=None, decode_error=u'strict',\n",
       "        dtype=<type 'numpy.int64'>, encoding=u'utf-8', input=u'content',\n",
       "        lowercase=True, max_df=1.0, max_features=None, min_df=1,\n",
       "        ngram_range=(1, 2), prepr...         use_idf=True)), ('classifier', MultinomialNB(alpha=1.0, class_prior=None, fit_prior=True))])"
      ]
     },
     "execution_count": 78,
     "metadata": {},
     "output_type": "execute_result"
    }
   ],
   "source": [
    "nb_pipeline.fit(X_h_emails_train, y_h_emails_train)"
   ]
  },
  {
   "cell_type": "code",
   "execution_count": 79,
   "metadata": {
    "collapsed": false
   },
   "outputs": [
    {
     "data": {
      "text/plain": [
       "0.28425655976676384"
      ]
     },
     "execution_count": 79,
     "metadata": {},
     "output_type": "execute_result"
    }
   ],
   "source": [
    "accuracy_score(nb_pipeline.predict(X_h_emails_test), y_h_emails_test)"
   ]
  },
  {
   "cell_type": "markdown",
   "metadata": {
    "collapsed": false
   },
   "source": [
    "Seems like predicting the recipients isn't working well. This might be because:\n",
    "* A lot of emails were sent to a small proportion of recipients.\n",
    "* Very few emails were sent to the large remaining portion of recipients\n",
    "\n",
    "Let's see what [KDE](https://en.wikipedia.org/wiki/Kernel_density_estimation) tells us."
   ]
  },
  {
   "cell_type": "code",
   "execution_count": 80,
   "metadata": {
    "collapsed": false
   },
   "outputs": [
    {
     "data": {
      "text/plain": [
       "<matplotlib.axes.AxesSubplot at 0x137c21810>"
      ]
     },
     "execution_count": 80,
     "metadata": {},
     "output_type": "execute_result"
    },
    {
     "data": {
      "image/png": "[encoded data removed]",
      "text/plain": [
       "<matplotlib.figure.Figure at 0x137c214d0>"
      ]
     },
     "metadata": {},
     "output_type": "display_data"
    }
   ],
   "source": [
    "all_emails[['EmailBody', 'ReceiverId']].groupby('ReceiverId').count().plot(kind='kde')"
   ]
  },
  {
   "cell_type": "markdown",
   "metadata": {},
   "source": [
    "That seems very prone to the hypothesis stated above. Moving on to predicting who sent the email."
   ]
  },
  {
   "cell_type": "markdown",
   "metadata": {},
   "source": [
    "### Predicting Senders of Emails"
   ]
  },
  {
   "cell_type": "code",
   "execution_count": 81,
   "metadata": {
    "collapsed": true
   },
   "outputs": [],
   "source": [
    "X_h_emails_train, X_h_emails_test, y_h_emails_train, y_h_emails_test = train_test_split(all_emails.EmailBody, all_emails.SenderId, test_size=0.25)"
   ]
  },
  {
   "cell_type": "code",
   "execution_count": 82,
   "metadata": {
    "collapsed": false
   },
   "outputs": [
    {
     "data": {
      "text/plain": [
       "CountVectorizer(analyzer=u'word', binary=False, charset=None,\n",
       "        charset_error=None, decode_error=u'strict',\n",
       "        dtype=<type 'numpy.int64'>, encoding=u'utf-8', input=u'content',\n",
       "        lowercase=True, max_df=1.0, max_features=None, min_df=1,\n",
       "        ngram_range=(1, 1), preprocessor=None, stop_words='english',\n",
       "        strip_accents=None, token_pattern=u'(?u)\\\\b\\\\w\\\\w+\\\\b',\n",
       "        tokenizer=None, vocabulary=None)"
      ]
     },
     "execution_count": 82,
     "metadata": {},
     "output_type": "execute_result"
    }
   ],
   "source": [
    "vect = CountVectorizer(stop_words='english')\n",
    "\n",
    "vect.fit(X_h_emails_train)"
   ]
  },
  {
   "cell_type": "code",
   "execution_count": 83,
   "metadata": {
    "collapsed": true
   },
   "outputs": [],
   "source": [
    "X_h_emails_train_dtm = vect.transform(X_h_emails_train)\n",
    "X_h_emails_test_dtm = vect.transform(X_h_emails_test)"
   ]
  },
  {
   "cell_type": "code",
   "execution_count": 84,
   "metadata": {
    "collapsed": false
   },
   "outputs": [
    {
     "data": {
      "text/plain": [
       "<6941x49929 sparse matrix of type '<type 'numpy.int64'>'\n",
       "\twith 851446 stored elements in Compressed Sparse Row format>"
      ]
     },
     "execution_count": 84,
     "metadata": {},
     "output_type": "execute_result"
    }
   ],
   "source": [
    "X_h_emails_train_dtm"
   ]
  },
  {
   "cell_type": "code",
   "execution_count": 85,
   "metadata": {
    "collapsed": false
   },
   "outputs": [
    {
     "data": {
      "text/plain": [
       "<2314x49929 sparse matrix of type '<type 'numpy.int64'>'\n",
       "\twith 267678 stored elements in Compressed Sparse Row format>"
      ]
     },
     "execution_count": 85,
     "metadata": {},
     "output_type": "execute_result"
    }
   ],
   "source": [
    "X_h_emails_test_dtm"
   ]
  },
  {
   "cell_type": "code",
   "execution_count": 86,
   "metadata": {
    "collapsed": false
   },
   "outputs": [
    {
     "data": {
      "text/plain": [
       "MultinomialNB(alpha=1.0, class_prior=None, fit_prior=True)"
      ]
     },
     "execution_count": 86,
     "metadata": {},
     "output_type": "execute_result"
    }
   ],
   "source": [
    "nb = MultinomialNB()\n",
    "\n",
    "nb.fit(X_h_emails_train_dtm, y_h_emails_train)"
   ]
  },
  {
   "cell_type": "code",
   "execution_count": 94,
   "metadata": {
    "collapsed": false
   },
   "outputs": [
    {
     "data": {
      "text/plain": [
       "0.60847018150388932"
      ]
     },
     "execution_count": 94,
     "metadata": {},
     "output_type": "execute_result"
    }
   ],
   "source": [
    "y_pred_class_senders = nb.predict(X_h_emails_test_dtm)\n",
    "accuracy_score(y_pred_class_senders, y_h_emails_test)"
   ]
  },
  {
   "cell_type": "markdown",
   "metadata": {},
   "source": [
    "Although not great, this is still better than what we saw earlier. Checking the KDE again."
   ]
  },
  {
   "cell_type": "code",
   "execution_count": 95,
   "metadata": {
    "collapsed": false
   },
   "outputs": [
    {
     "data": {
      "text/plain": [
       "<matplotlib.axes.AxesSubplot at 0x136371a90>"
      ]
     },
     "execution_count": 95,
     "metadata": {},
     "output_type": "execute_result"
    },
    {
     "data": {
      "image/png": "[encoded data removed]",
      "text/plain": [
       "<matplotlib.figure.Figure at 0x136943a90>"
      ]
     },
     "metadata": {},
     "output_type": "display_data"
    }
   ],
   "source": [
    "all_emails[['EmailBody', 'SenderId']].groupby('SenderId').count().plot(kind='kde')"
   ]
  },
  {
   "cell_type": "markdown",
   "metadata": {
    "collapsed": true
   },
   "source": [
    "This shows a slightly better distribution for prediction and that's why see a better accuracy score for predicting senders instead of recipients."
   ]
  },
  {
   "cell_type": "code",
   "execution_count": 96,
   "metadata": {
    "collapsed": false
   },
   "outputs": [
    {
     "name": "stdout",
     "output_type": "stream",
     "text": [
      "             precision    recall  f1-score   support\n",
      "\n",
      "          7       0.00      0.00      0.00         0\n",
      "          9       0.00      0.00      0.00         0\n",
      "         10       0.00      0.00      0.00         0\n",
      "         12       0.00      0.00      0.00         0\n",
      "         15       0.00      0.00      0.00         0\n",
      "         16       0.09      1.00      0.17         1\n",
      "         22       0.00      0.00      0.00         0\n",
      "         24       0.00      0.00      0.00         0\n",
      "         30       0.00      0.00      0.00         0\n",
      "         32       0.72      0.71      0.72       363\n",
      "         37       0.00      0.00      0.00         0\n",
      "         39       0.00      0.00      0.00         0\n",
      "         41       0.00      0.00      0.00         0\n",
      "         42       0.00      0.00      0.00         0\n",
      "         46       0.00      0.00      0.00         0\n",
      "         48       0.00      0.00      0.00         0\n",
      "         49       1.00      1.00      1.00         1\n",
      "         63       0.00      0.00      0.00         0\n",
      "         72       0.00      0.00      0.00         0\n",
      "         73       0.00      0.00      0.00         0\n",
      "         75       0.00      0.00      0.00         0\n",
      "         77       0.00      0.00      0.00         0\n",
      "         80       0.81      0.55      0.66      1042\n",
      "         81       0.82      0.63      0.71       551\n",
      "         85       0.00      0.00      0.00         0\n",
      "         86       0.00      0.00      0.00         0\n",
      "         87       0.41      0.56      0.48       159\n",
      "         90       0.00      0.00      0.00         0\n",
      "         93       0.00      0.00      0.00         0\n",
      "         94       0.00      0.00      0.00         0\n",
      "        100       0.00      0.00      0.00         0\n",
      "        101       0.00      0.00      0.00         0\n",
      "        103       0.00      0.00      0.00         0\n",
      "        105       0.57      0.91      0.70        22\n",
      "        112       0.00      0.00      0.00         0\n",
      "        113       0.00      0.00      0.00         0\n",
      "        116       0.43      0.73      0.54        52\n",
      "        122       0.00      0.00      0.00         0\n",
      "        124       0.10      0.67      0.17         9\n",
      "        128       0.00      0.00      0.00         0\n",
      "        135       0.00      0.00      0.00         0\n",
      "        142       0.00      0.00      0.00         0\n",
      "        143       0.04      0.33      0.07         3\n",
      "        144       0.00      0.00      0.00         0\n",
      "        145       0.00      0.00      0.00         0\n",
      "        148       0.00      0.00      0.00         0\n",
      "        150       0.00      0.00      0.00         0\n",
      "        153       0.00      0.00      0.00         0\n",
      "        156       0.00      0.00      0.00         0\n",
      "        157       0.00      0.00      0.00         0\n",
      "        165       0.00      0.00      0.00         0\n",
      "        168       0.00      0.00      0.00         0\n",
      "        169       0.00      0.00      0.00         0\n",
      "        170       0.07      0.50      0.12         6\n",
      "        171       0.00      0.00      0.00         0\n",
      "        173       0.00      0.00      0.00         0\n",
      "        180       0.07      0.60      0.12         5\n",
      "        182       0.00      0.00      0.00         0\n",
      "        185       0.00      0.00      0.00         0\n",
      "        190       0.00      0.00      0.00         0\n",
      "        191       0.00      0.00      0.00         0\n",
      "        192       0.00      0.00      0.00         0\n",
      "        194       0.69      0.71      0.70       100\n",
      "        196       0.00      0.00      0.00         0\n",
      "        197       0.00      0.00      0.00         0\n",
      "        201       0.00      0.00      0.00         0\n",
      "        204       0.00      0.00      0.00         0\n",
      "        205       0.00      0.00      0.00         0\n",
      "        209       0.00      0.00      0.00         0\n",
      "        210       0.00      0.00      0.00         0\n",
      "        213       0.00      0.00      0.00         0\n",
      "        216       0.00      0.00      0.00         0\n",
      "        219       0.00      0.00      0.00         0\n",
      "        220       0.00      0.00      0.00         0\n",
      "        226       0.00      0.00      0.00         0\n",
      "\n",
      "avg / total       0.75      0.61      0.66      2314\n",
      "\n"
     ]
    }
   ],
   "source": [
    "print (classification_report(y_pred_class_senders, y_h_emails_test))"
   ]
  }
 ],
 "metadata": {
  "kernelspec": {
   "display_name": "Python 2",
   "language": "python",
   "name": "python2"
  },
  "language_info": {
   "codemirror_mode": {
    "name": "ipython",
    "version": 2
   },
   "file_extension": ".py",
   "mimetype": "text/x-python",
   "name": "python",
   "nbconvert_exporter": "python",
   "pygments_lexer": "ipython2",
   "version": "2.7.11"
  }
 },
 "nbformat": 4,
 "nbformat_minor": 0
}
